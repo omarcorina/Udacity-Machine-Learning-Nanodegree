{
 "cells": [
  {
   "cell_type": "code",
   "execution_count": 1,
   "metadata": {},
   "outputs": [],
   "source": [
    "import numpy as np\n",
    "import pandas as pd\n",
    "import math\n",
    "import sys"
   ]
  },
  {
   "cell_type": "code",
   "execution_count": 2,
   "metadata": {},
   "outputs": [
    {
     "name": "stdout",
     "output_type": "stream",
     "text": [
      "   distancia   S1  S2   S3\n",
      "0         10  105  65  108\n",
      "1         12   92  70  110\n",
      "2         14   70  75  113\n",
      "3         16   65  90  120\n",
      "4         18   60  95  123\n",
      "(11, 4)\n",
      "   angulo     S0\n",
      "0      21   0.01\n",
      "1      25   5.00\n",
      "2      31  10.00\n",
      "3      33  15.00\n",
      "4      39  20.00\n",
      "(36, 2)\n"
     ]
    }
   ],
   "source": [
    "# subir angulos y distancia paara regresion\n",
    "df = pd.read_excel('angulos y distancias para regresion 10 casos brazo negro.xlsx')\n",
    "df1 = pd.read_excel('angulo S0 para regresion brazo negro.xlsx')\n",
    "print(df.head())\n",
    "print(df.shape)\n",
    "print(df1.head())\n",
    "print(df1.shape)"
   ]
  },
  {
   "cell_type": "code",
   "execution_count": 3,
   "metadata": {},
   "outputs": [],
   "source": [
    "# Create separate object for target variable\n",
    "\n",
    "y1 = df.S1\n",
    "y1 = y1.as_matrix()\n",
    "\n",
    "y2 = df.S2\n",
    "y2 = y2.as_matrix()\n",
    "\n",
    "y3 = df.S3\n",
    "y3 = y3.as_matrix()\n",
    "\n",
    "y0 = df1.S0\n",
    "y0 = y0.as_matrix()\n",
    "\n",
    "# Create separate object for input features\n",
    "X = df.distancia\n",
    "X = X.as_matrix()\n",
    "X = X.reshape(-1, 1)\n",
    "\n",
    "# crear X paraS0\n",
    "X0 = df1.angulo\n",
    "X0 = X0.as_matrix()\n",
    "X0 = X0.reshape(-1, 1)"
   ]
  },
  {
   "cell_type": "code",
   "execution_count": 4,
   "metadata": {},
   "outputs": [],
   "source": [
    "from sklearn.tree import DecisionTreeRegressor\n",
    "\n"
   ]
  },
  {
   "cell_type": "code",
   "execution_count": 5,
   "metadata": {},
   "outputs": [],
   "source": [
    "regr_1 = DecisionTreeRegressor(max_depth=5)\n",
    "regr_1.fit(X, y1)\n",
    "predictions1 = regr_1.predict(X)\n",
    "\n",
    "regr_2 = DecisionTreeRegressor(max_depth=5)\n",
    "regr_2.fit(X, y2)\n",
    "predictions2 = regr_2.predict(X)\n",
    "\n",
    "regr_3 = DecisionTreeRegressor(max_depth=5)\n",
    "regr_3.fit(X, y3)\n",
    "predictions3 = regr_3.predict(X)\n",
    "\n",
    "regr_0 = DecisionTreeRegressor(max_depth=6)\n",
    "regr_0.fit(X0, y0)\n",
    "predictions0 = regr_0.predict(X0)"
   ]
  },
  {
   "cell_type": "code",
   "execution_count": 6,
   "metadata": {},
   "outputs": [
    {
     "data": {
      "text/plain": [
       "<Figure size 640x480 with 1 Axes>"
      ]
     },
     "metadata": {},
     "output_type": "display_data"
    }
   ],
   "source": [
    "import matplotlib.pyplot as plt\n",
    "plt.plot(y1)\n",
    "plt.plot(predictions1)\n",
    "plt.show()\n"
   ]
  },
  {
   "cell_type": "code",
   "execution_count": 7,
   "metadata": {},
   "outputs": [
    {
     "data": {
      "image/png": "[encoded data removed]",
      "text/plain": [
       "<Figure size 432x288 with 1 Axes>"
      ]
     },
     "metadata": {},
     "output_type": "display_data"
    }
   ],
   "source": [
    "plt.plot(y2)\n",
    "plt.plot(predictions2)\n",
    "plt.show()"
   ]
  },
  {
   "cell_type": "code",
   "execution_count": 8,
   "metadata": {},
   "outputs": [
    {
     "data": {
      "image/png": "[encoded data removed]",
      "text/plain": [
       "<Figure size 432x288 with 1 Axes>"
      ]
     },
     "metadata": {},
     "output_type": "display_data"
    }
   ],
   "source": [
    "plt.plot(y3)\n",
    "plt.plot(predictions3)\n",
    "plt.show()"
   ]
  },
  {
   "cell_type": "code",
   "execution_count": 9,
   "metadata": {},
   "outputs": [
    {
     "data": {
      "image/png": "[encoded data removed]",
      "text/plain": [
       "<Figure size 432x288 with 1 Axes>"
      ]
     },
     "metadata": {},
     "output_type": "display_data"
    }
   ],
   "source": [
    "plt.plot(y0)\n",
    "plt.plot(predictions0)\n",
    "plt.show()"
   ]
  },
  {
   "cell_type": "code",
   "execution_count": 17,
   "metadata": {},
   "outputs": [
    {
     "name": "stdout",
     "output_type": "stream",
     "text": [
      "Angulo teorico =  85.60129464500447\n",
      "Distancia =  [[ 26.07680962]]\n",
      "S0 =  [ 75.]\n",
      "S1 =  [ 40.]\n",
      "S2 =  [ 132.]\n",
      "S3 =  [ 136.]\n"
     ]
    }
   ],
   "source": [
    "# Entrar las coordenadas para estimar los angulos de los 4 DOF\n",
    "coordx = 42\n",
    "coordy = 26\n",
    "\n",
    "# Predecir angulos de los 4 DOF a partir de coordenadas X y Y\n",
    "para_dist = ((coordx-40)*(coordx-40)) + coordy*coordy\n",
    "distancia = np.array(math.sqrt(para_dist)).reshape(1, -1)\n",
    "\n",
    "cos_angulo = (coordx-40)/distancia\n",
    "angulo = math.degrees(math.acos(cos_angulo))\n",
    "\n",
    "S1 = regr_1.predict(distancia)\n",
    "S2 = regr_2.predict(distancia)\n",
    "S3 = regr_3.predict(distancia)\n",
    "S0 = regr_0.predict(angulo)\n",
    "\n",
    "print('Angulo teorico = ',angulo)\n",
    "print('Distancia = ',distancia)\n",
    "print('S0 = ',S0.round(0))\n",
    "print('S1 = ',S1.round(0))\n",
    "print('S2 = ',S2.round(0))\n",
    "print('S3 = ',S3.round(0))\n"
   ]
  },
  {
   "cell_type": "code",
   "execution_count": null,
   "metadata": {},
   "outputs": [],
   "source": []
  },
  {
   "cell_type": "code",
   "execution_count": null,
   "metadata": {},
   "outputs": [],
   "source": []
  }
 ],
 "metadata": {
  "kernelspec": {
   "display_name": "Python 3",
   "language": "python",
   "name": "python3"
  },
  "language_info": {
   "codemirror_mode": {
    "name": "ipython",
    "version": 3
   },
   "file_extension": ".py",
   "mimetype": "text/x-python",
   "name": "python",
   "nbconvert_exporter": "python",
   "pygments_lexer": "ipython3",
   "version": "3.6.5"
  }
 },
 "nbformat": 4,
 "nbformat_minor": 2
}
